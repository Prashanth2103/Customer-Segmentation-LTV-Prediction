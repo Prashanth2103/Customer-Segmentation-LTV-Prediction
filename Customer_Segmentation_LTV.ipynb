{
 "cells": [
  {
   "cell_type": "markdown",
   "id": "8fc0f3e3",
   "metadata": {},
   "source": [
    "# Customer Segmentation & LTV Prediction\n",
    "Segment customers and predict lifetime value."
   ]
  },
  {
   "cell_type": "code",
   "execution_count": null,
   "id": "b2de76aa",
   "metadata": {},
   "outputs": [],
   "source": [
    "# 1. Import libraries\n",
    "import pandas as pd\n",
    "import matplotlib.pyplot as plt\n",
    "from sklearn.preprocessing import StandardScaler\n",
    "from sklearn.cluster import KMeans\n",
    "from xgboost import XGBRegressor\n",
    "from sklearn.model_selection import train_test_split\n",
    "from sklearn.metrics import mean_absolute_error\n",
    "\n",
    "plt.rcParams['figure.figsize'] = (10, 5)"
   ]
  },
  {
   "cell_type": "code",
   "execution_count": null,
   "id": "b93dd0fb",
   "metadata": {},
   "outputs": [],
   "source": [
    "# 2. Load dataset\n",
    "df = pd.read_csv('customer_data.csv', parse_dates=['invoice_date'])\n",
    "df.head()"
   ]
  },
  {
   "cell_type": "code",
   "execution_count": null,
   "id": "b69aa733",
   "metadata": {},
   "outputs": [],
   "source": [
    "# 3. Compute RFM features\n",
    "import datetime as dt\n",
    "snapshot = df['invoice_date'].max() + dt.timedelta(days=1)\n",
    "rfm = df.groupby('customer_id').agg({\n",
    "    'invoice_date': lambda x: (snapshot - x.max()).days,\n",
    "    'invoice_no': 'nunique',\n",
    "    'amount': 'sum'\n",
    "}).rename(columns={'invoice_date':'Recency','invoice_no':'Frequency','amount':'Monetary'})\n",
    "rfm.head()"
   ]
  },
  {
   "cell_type": "code",
   "execution_count": null,
   "id": "823a0e73",
   "metadata": {},
   "outputs": [],
   "source": [
    "# 4. RFM Clustering\n",
    "scaler = StandardScaler()\n",
    "rfm_scaled = scaler.fit_transform(rfm)\n",
    "kmeans = KMeans(n_clusters=4, random_state=42).fit(rfm_scaled)\n",
    "rfm['Cluster'] = kmeans.labels_\n",
    "rfm['Cluster'].value_counts()"
   ]
  },
  {
   "cell_type": "code",
   "execution_count": null,
   "id": "fa1b60d2",
   "metadata": {},
   "outputs": [],
   "source": [
    "# 5. Visualise Clusters\n",
    "plt.scatter(rfm['Recency'], rfm['Monetary'], c=rfm['Cluster'], cmap='viridis')\n",
    "plt.xlabel('Recency'); plt.ylabel('Monetary'); plt.title('RFM Clusters'); plt.show()"
   ]
  },
  {
   "cell_type": "code",
   "execution_count": null,
   "id": "b08f4bb5",
   "metadata": {},
   "outputs": [],
   "source": [
    "# 6. Prepare data for LTV prediction\n",
    "data = df.groupby('customer_id').agg({\n",
    "    'amount': ['sum', 'mean'], \n",
    "    'invoice_no': 'nunique'\n",
    "})\n",
    "data.columns = ['total_amount','avg_amount','frequency']\n",
    "data = data.merge(rfm[['Recency','Cluster']], left_index=True, right_index=True)\n",
    "data['LTV'] = data['total_amount'] * 1.2  # placeholder for actual LTV\n",
    "X = data.drop('LTV', axis=1)\n",
    "y = data['LTV']"
   ]
  },
  {
   "cell_type": "code",
   "execution_count": null,
   "id": "b01b3c79",
   "metadata": {},
   "outputs": [],
   "source": [
    "# 7. Train XGBoost Model\n",
    "X_train, X_test, y_train, y_test = train_test_split(X, y, test_size=0.2, random_state=42)\n",
    "model = XGBRegressor(objective='reg:squarederror', n_estimators=100, random_state=42)\n",
    "model.fit(X_train, y_train)\n",
    "preds = model.predict(X_test)\n",
    "print('LTV MAE:', mean_absolute_error(y_test, preds))"
   ]
  },
  {
   "cell_type": "code",
   "execution_count": null,
   "id": "f378a7fe",
   "metadata": {},
   "outputs": [],
   "source": [
    "# 8. Save Model\n",
    "import pickle\n",
    "with open('ltv_model.pkl', 'wb') as f:\n",
    "    pickle.dump(model, f)\n",
    "print('Model saved to ltv_model.pkl')"
   ]
  }
 ],
 "metadata": {},
 "nbformat": 4,
 "nbformat_minor": 5
}
